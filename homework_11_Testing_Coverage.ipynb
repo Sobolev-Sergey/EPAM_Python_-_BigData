{
 "cells": [
  {
   "cell_type": "markdown",
   "metadata": {},
   "source": [
    "### Домашнее задание \n",
    "1. Написать тесты к одной из предыдущих домашних работ: \n",
    "   - использовать библиотеки unittest или pytest, \n",
    "   - позитивные и негативные тест-кейсы. \n",
    "\n",
    "2. Приложить отчет по coverage."
   ]
  },
  {
   "cell_type": "code",
   "execution_count": null,
   "metadata": {},
   "outputs": [],
   "source": [
    "# %load lecture_1_Base_types_task_3_FizzBuzz.py\n",
    "def fizzbuzz(*args):\n",
    "    \"\"\"\n",
    "    Instead of numbers that are multiples of three, the program should\n",
    "    output the word Fizz, and instead of numbers divisible by five,\n",
    "    the word Buzz. If the number is a multiple of 3 and 5, then the\n",
    "    program should output the word FizzBuzz.\n",
    "    :param args: Numbers range\n",
    "    :return: Print result\n",
    "    \"\"\"\n",
    "    result = []\n",
    "    for i in args:\n",
    "        if not isinstance(i, int):\n",
    "            raise ValueError(\"Value Error\")\n",
    "        temp = ''\n",
    "        if i % 3 == 0:\n",
    "            temp = 'Fizz'\n",
    "        if i % 5 == 0:\n",
    "            temp = 'Buzz'\n",
    "        if i % 15 == 0:\n",
    "            temp = 'FizzBuzz'\n",
    "        result.append(temp or i)\n",
    "    return result\n"
   ]
  },
  {
   "cell_type": "code",
   "execution_count": null,
   "metadata": {},
   "outputs": [],
   "source": [
    "# %load test_homework_11_Testing_Coverage.py\n",
    "import pytest\n",
    "from lecture_1_Base_types_task_3_FizzBuzz import fizzbuzz\n",
    "\n",
    "\n",
    "def test_fizzbuzz_of_positive():\n",
    "    assert fizzbuzz(1, 2, 3, 4, 5, 6, 15) == [1, 2, \"Fizz\", 4, \"Buzz\", \"Fizz\", \"FizzBuzz\",]\n",
    "\n",
    "\n",
    "def test_fizzbuzz_of_negative():\n",
    "    with pytest.raises(ValueError) as e:\n",
    "        fizzbuzz(1, 2, 3, \"4\", 5, 6, 15)\n",
    "    assert str(e.value) == \"Value Error\"\n"
   ]
  },
  {
   "cell_type": "code",
   "execution_count": 3,
   "metadata": {},
   "outputs": [
    {
     "name": "stdout",
     "output_type": "stream",
     "text": [
      "============================= test session starts =============================\n",
      "platform win32 -- Python 3.7.4, pytest-5.4.3, py-1.8.2, pluggy-0.13.1\n",
      "rootdir: C:\\Users\\SKS\n",
      "plugins: cov-2.10.0\n",
      "collected 2 items\n",
      "\n",
      "test_homework_11_Testing_Coverage.py ..                                  [100%]\n",
      "\n",
      "============================== 2 passed in 0.05s ==============================\n"
     ]
    }
   ],
   "source": [
    "!python -m pytest test_homework_11_Testing_Coverage.py"
   ]
  },
  {
   "cell_type": "code",
   "execution_count": 4,
   "metadata": {},
   "outputs": [
    {
     "name": "stdout",
     "output_type": "stream",
     "text": [
      "============================= test session starts =============================\n",
      "platform win32 -- Python 3.7.4, pytest-5.4.3, py-1.8.2, pluggy-0.13.1\n",
      "rootdir: C:\\Users\\SKS\n",
      "plugins: cov-2.10.0\n",
      "collected 2 items\n",
      "\n",
      "test_homework_11_Testing_Coverage.py ..                                  [100%]\n",
      "\n",
      "============================== 2 passed in 0.06s ==============================\n"
     ]
    }
   ],
   "source": [
    "!coverage run -m pytest test_homework_11_Testing_Coverage.py"
   ]
  },
  {
   "cell_type": "code",
   "execution_count": 5,
   "metadata": {},
   "outputs": [
    {
     "name": "stdout",
     "output_type": "stream",
     "text": [
      "Name                                                                           Stmts   Miss  Cover\n",
      "--------------------------------------------------------------------------------------------------\n",
      "AppData\\Roaming\\Python\\Python37\\site-packages\\importlib_metadata\\__init__.py     220     58    74%\n",
      "AppData\\Roaming\\Python\\Python37\\site-packages\\importlib_metadata\\_compat.py       29      2    93%\n",
      "AppData\\Roaming\\Python\\Python37\\site-packages\\zipp.py                            113     65    42%\n",
      "lecture_1_Base_types_task_3_FizzBuzz.py                                           14      0   100%\n",
      "test_homework_11_Testing_Coverage.py                                               8      0   100%\n",
      "--------------------------------------------------------------------------------------------------\n",
      "TOTAL                                                                            384    125    67%\n"
     ]
    }
   ],
   "source": [
    "!coverage report "
   ]
  },
  {
   "cell_type": "code",
   "execution_count": 7,
   "metadata": {},
   "outputs": [],
   "source": [
    "!coverage html \n",
    "\n",
    "# ОТЧЕТ лежит в папке htmlcov. "
   ]
  },
  {
   "cell_type": "code",
   "execution_count": null,
   "metadata": {},
   "outputs": [],
   "source": [
    "# %load ./htmlcov/index.html\n",
    "<!DOCTYPE html>\n",
    "<html>\n",
    "<head>\n",
    "    <meta http-equiv=\"Content-Type\" content=\"text/html; charset=utf-8\">\n",
    "    <title>Coverage report</title>\n",
    "    <link rel=\"stylesheet\" href=\"style.css\" type=\"text/css\">\n",
    "    <script type=\"text/javascript\" src=\"jquery.min.js\"></script>\n",
    "    <script type=\"text/javascript\" src=\"jquery.ba-throttle-debounce.min.js\"></script>\n",
    "    <script type=\"text/javascript\" src=\"jquery.tablesorter.min.js\"></script>\n",
    "    <script type=\"text/javascript\" src=\"jquery.hotkeys.js\"></script>\n",
    "    <script type=\"text/javascript\" src=\"coverage_html.js\"></script>\n",
    "    <script type=\"text/javascript\">\n",
    "        jQuery(document).ready(coverage.index_ready);\n",
    "    </script>\n",
    "</head>\n",
    "<body class=\"indexfile\">\n",
    "<div id=\"header\">\n",
    "    <div class=\"content\">\n",
    "        <h1>Coverage report:\n",
    "            <span class=\"pc_cov\">67%</span>\n",
    "        </h1>\n",
    "        <img id=\"keyboard_icon\" src=\"keybd_closed.png\" alt=\"Show keyboard shortcuts\" />\n",
    "        <form id=\"filter_container\">\n",
    "            <input id=\"filter\" type=\"text\" value=\"\" placeholder=\"filter...\" />\n",
    "        </form>\n",
    "    </div>\n",
    "</div>\n",
    "<div class=\"help_panel\">\n",
    "    <img id=\"panel_icon\" src=\"keybd_open.png\" alt=\"Hide keyboard shortcuts\" />\n",
    "    <p class=\"legend\">Hot-keys on this page</p>\n",
    "    <div>\n",
    "    <p class=\"keyhelp\">\n",
    "        <span class=\"key\">n</span>\n",
    "        <span class=\"key\">s</span>\n",
    "        <span class=\"key\">m</span>\n",
    "        <span class=\"key\">x</span>\n",
    "        <span class=\"key\">c</span> &nbsp; change column sorting\n",
    "    </p>\n",
    "    </div>\n",
    "</div>\n",
    "<div id=\"index\">\n",
    "    <table class=\"index\">\n",
    "        <thead>\n",
    "            <tr class=\"tablehead\" title=\"Click to sort\">\n",
    "                <th class=\"name left headerSortDown shortkey_n\">Module</th>\n",
    "                <th class=\"shortkey_s\">statements</th>\n",
    "                <th class=\"shortkey_m\">missing</th>\n",
    "                <th class=\"shortkey_x\">excluded</th>\n",
    "                <th class=\"right shortkey_c\">coverage</th>\n",
    "            </tr>\n",
    "        </thead>\n",
    "        <tfoot>\n",
    "            <tr class=\"total\">\n",
    "                <td class=\"name left\">Total</td>\n",
    "                <td>384</td>\n",
    "                <td>125</td>\n",
    "                <td>49</td>\n",
    "                <td class=\"right\" data-ratio=\"259 384\">67%</td>\n",
    "            </tr>\n",
    "        </tfoot>\n",
    "        <tbody>\n",
    "            <tr class=\"file\">\n",
    "                <td class=\"name left\"><a href=\"AppData_Roaming_Python_Python37_site-packages_importlib_metadata___init___py.html\">AppData\\Roaming\\Python\\Python37\\site-packages\\importlib_metadata\\__init__.py</a></td>\n",
    "                <td>220</td>\n",
    "                <td>58</td>\n",
    "                <td>2</td>\n",
    "                <td class=\"right\" data-ratio=\"162 220\">74%</td>\n",
    "            </tr>\n",
    "            <tr class=\"file\">\n",
    "                <td class=\"name left\"><a href=\"AppData_Roaming_Python_Python37_site-packages_importlib_metadata__compat_py.html\">AppData\\Roaming\\Python\\Python37\\site-packages\\importlib_metadata\\_compat.py</a></td>\n",
    "                <td>29</td>\n",
    "                <td>2</td>\n",
    "                <td>47</td>\n",
    "                <td class=\"right\" data-ratio=\"27 29\">93%</td>\n",
    "            </tr>\n",
    "            <tr class=\"file\">\n",
    "                <td class=\"name left\"><a href=\"AppData_Roaming_Python_Python37_site-packages_zipp_py.html\">AppData\\Roaming\\Python\\Python37\\site-packages\\zipp.py</a></td>\n",
    "                <td>113</td>\n",
    "                <td>65</td>\n",
    "                <td>0</td>\n",
    "                <td class=\"right\" data-ratio=\"48 113\">42%</td>\n",
    "            </tr>\n",
    "            <tr class=\"file\">\n",
    "                <td class=\"name left\"><a href=\"lecture_1_Base_types_task_3_FizzBuzz_py.html\">lecture_1_Base_types_task_3_FizzBuzz.py</a></td>\n",
    "                <td>14</td>\n",
    "                <td>0</td>\n",
    "                <td>0</td>\n",
    "                <td class=\"right\" data-ratio=\"14 14\">100%</td>\n",
    "            </tr>\n",
    "            <tr class=\"file\">\n",
    "                <td class=\"name left\"><a href=\"test_homework_11_Testing_Coverage_py.html\">test_homework_11_Testing_Coverage.py</a></td>\n",
    "                <td>8</td>\n",
    "                <td>0</td>\n",
    "                <td>0</td>\n",
    "                <td class=\"right\" data-ratio=\"8 8\">100%</td>\n",
    "            </tr>\n",
    "        </tbody>\n",
    "    </table>\n",
    "    <p id=\"no_rows\">\n",
    "        No items found using the specified filter.\n",
    "    </p>\n",
    "</div>\n",
    "<div id=\"footer\">\n",
    "    <div class=\"content\">\n",
    "        <p>\n",
    "            <a class=\"nav\" href=\"https://coverage.readthedocs.io\">coverage.py v5.1</a>,\n",
    "            created at 2020-06-25 12:42\n",
    "        </p>\n",
    "    </div>\n",
    "</div>\n",
    "</body>\n",
    "</html>\n"
   ]
  },
  {
   "cell_type": "code",
   "execution_count": null,
   "metadata": {},
   "outputs": [],
   "source": []
  }
 ],
 "metadata": {
  "kernelspec": {
   "display_name": "Python 3",
   "language": "python",
   "name": "python3"
  },
  "language_info": {
   "codemirror_mode": {
    "name": "ipython",
    "version": 3
   },
   "file_extension": ".py",
   "mimetype": "text/x-python",
   "name": "python",
   "nbconvert_exporter": "python",
   "pygments_lexer": "ipython3",
   "version": "3.7.4"
  }
 },
 "nbformat": 4,
 "nbformat_minor": 4
}
