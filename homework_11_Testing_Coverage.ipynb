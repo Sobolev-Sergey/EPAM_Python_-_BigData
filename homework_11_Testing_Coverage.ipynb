{
 "cells": [
  {
   "cell_type": "code",
   "execution_count": null,
   "metadata": {},
   "outputs": [],
   "source": [
    "# %load lecture_1_Base_types_task_3_FizzBuzz.py\n",
    "def fizzbuzz(*args):\n",
    "    \"\"\"\n",
    "    Instead of numbers that are multiples of three, the program should\n",
    "    output the word Fizz, and instead of numbers divisible by five,\n",
    "    the word Buzz. If the number is a multiple of 3 and 5, then the\n",
    "    program should output the word FizzBuzz.\n",
    "    :param args: Numbers range\n",
    "    :return: Print result\n",
    "    \"\"\"\n",
    "    result = []\n",
    "    for i in args:\n",
    "        if not isinstance(i, int):\n",
    "            raise ValueError(\"Value Error\")\n",
    "        temp = ''\n",
    "        if i % 3 == 0:\n",
    "            temp = 'Fizz'\n",
    "        if i % 5 == 0:\n",
    "            temp = 'Buzz'\n",
    "        if i % 15 == 0:\n",
    "            temp = 'FizzBuzz'\n",
    "        result.append(temp or i)\n",
    "    return result\n"
   ]
  },
  {
   "cell_type": "code",
   "execution_count": null,
   "metadata": {},
   "outputs": [],
   "source": [
    "# %load test_homework_11_Testing_Coverage.py\n",
    "import pytest\n",
    "from lecture_1_Base_types_task_3_FizzBuzz import fizzbuzz\n",
    "\n",
    "\n",
    "def test_fizzbuzz_of_positive():\n",
    "    assert fizzbuzz(1, 2, 3, 4, 5, 6, 15) == [1, 2, \"Fizz\", 4, \"Buzz\", \"Fizz\", \"FizzBuzz\",]\n",
    "\n",
    "\n",
    "def test_fizzbuzz_of_negative():\n",
    "    with pytest.raises(ValueError) as e:\n",
    "        fizzbuzz(1, 2, 3, \"4\", 5, 6, 15)\n",
    "    assert str(e.value) == \"Value Error\"\n"
   ]
  },
  {
   "cell_type": "code",
   "execution_count": 3,
   "metadata": {},
   "outputs": [
    {
     "name": "stdout",
     "output_type": "stream",
     "text": [
      "============================= test session starts =============================\n",
      "platform win32 -- Python 3.7.4, pytest-5.4.3, py-1.8.2, pluggy-0.13.1\n",
      "rootdir: C:\\Users\\SKS\n",
      "plugins: cov-2.10.0\n",
      "collected 2 items\n",
      "\n",
      "test_homework_11_Testing_Coverage.py ..                                  [100%]\n",
      "\n",
      "============================== 2 passed in 0.05s ==============================\n"
     ]
    }
   ],
   "source": [
    "!python -m pytest test_homework_11_Testing_Coverage.py"
   ]
  },
  {
   "cell_type": "code",
   "execution_count": 4,
   "metadata": {},
   "outputs": [
    {
     "name": "stdout",
     "output_type": "stream",
     "text": [
      "============================= test session starts =============================\n",
      "platform win32 -- Python 3.7.4, pytest-5.4.3, py-1.8.2, pluggy-0.13.1\n",
      "rootdir: C:\\Users\\SKS\n",
      "plugins: cov-2.10.0\n",
      "collected 2 items\n",
      "\n",
      "test_homework_11_Testing_Coverage.py ..                                  [100%]\n",
      "\n",
      "============================== 2 passed in 0.06s ==============================\n"
     ]
    }
   ],
   "source": [
    "!coverage run -m pytest test_homework_11_Testing_Coverage.py"
   ]
  },
  {
   "cell_type": "code",
   "execution_count": 5,
   "metadata": {},
   "outputs": [
    {
     "name": "stdout",
     "output_type": "stream",
     "text": [
      "Name                                                                           Stmts   Miss  Cover\n",
      "--------------------------------------------------------------------------------------------------\n",
      "AppData\\Roaming\\Python\\Python37\\site-packages\\importlib_metadata\\__init__.py     220     58    74%\n",
      "AppData\\Roaming\\Python\\Python37\\site-packages\\importlib_metadata\\_compat.py       29      2    93%\n",
      "AppData\\Roaming\\Python\\Python37\\site-packages\\zipp.py                            113     65    42%\n",
      "lecture_1_Base_types_task_3_FizzBuzz.py                                           14      0   100%\n",
      "test_homework_11_Testing_Coverage.py                                               8      0   100%\n",
      "--------------------------------------------------------------------------------------------------\n",
      "TOTAL                                                                            384    125    67%\n"
     ]
    }
   ],
   "source": [
    "!coverage report "
   ]
  },
  {
   "cell_type": "code",
   "execution_count": 7,
   "metadata": {},
   "outputs": [],
   "source": [
    "!coverage html \n",
    "\n",
    "# ОТЧЕТ лежит в папке htmlcov. "
   ]
  },
  {
   "cell_type": "code",
   "execution_count": null,
   "metadata": {},
   "outputs": [],
   "source": []
  }
 ],
 "metadata": {
  "kernelspec": {
   "display_name": "Python 3",
   "language": "python",
   "name": "python3"
  },
  "language_info": {
   "codemirror_mode": {
    "name": "ipython",
    "version": 3
   },
   "file_extension": ".py",
   "mimetype": "text/x-python",
   "name": "python",
   "nbconvert_exporter": "python",
   "pygments_lexer": "ipython3",
   "version": "3.7.4"
  }
 },
 "nbformat": 4,
 "nbformat_minor": 4
}
