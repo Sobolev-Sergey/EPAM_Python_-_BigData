{
 "cells": [
  {
   "cell_type": "markdown",
   "metadata": {},
   "source": [
    "### Задание \n",
    "Во вкладке Files в группе Webinars прикреплен файл _olimpicmedals.csv с данными о медалях на Олимпийских играх за 1896-2008 годы.\n",
    "Ссылка: https://epam.sharepoint.com/sites/EPAMNNPythonLab/Shared%20Documents/Webinars/olimpic_medals.csv (https://epam.sharepoint.com/sites/EPAMNNPythonLab/Shared%20Documents/Webinars/olimpic_medals.csv) \n",
    "\n",
    "Скачайте .csv файл себе на диск, загрузите данные в DataFrame (функция _readcsv) и ответьте на следующие вопросы, используя функционал pandas:\n",
    "1. Сколько медалей выиграл Jesse Owens в 1936? \n",
    "2. Какая страна выйграла большинство золотых медалей мужчинами в бадминтоне? \n" ,
    "3. Какие три страны выйграли большинство медалей в последние годы (с 1984 по 2008)? \n",
    "4. Покажите мужчин золотых медалистов по 100m. Выведите результаты по убыванию года выйгрыша. Покажите город в котором проходила олимпиала, год, имя атлета и страну за которую он выступал. \n",
    "5. Как много медалей было выйграно мужчинами и женщинами в истории олимпиады. Как много золотых, серебрянных и бронзовых медалей было выйграно каждым полом? \n",
    "6. Используя groupby(), постройте график числа всех медалей выйгранных на каждой олимпиаде. \n",
    "7. Создайте список показывающий число всех медалей выйгранных каждой страной в течение всей истории олимпийских игр. Для каждой страны, необходимо показать год первой и последней заработанной медали. \n",
    "8. Атлеты выйгравшие медали в Beijing на дистанции 100m или 200m \n",
    "9. Постройте график числа золотых медалей выйгранных США мужчинами и женщинами в атлетике. \n",
    "10. Постройте график 5 атлетов которые выйграли большинство золотых медалей. \n",
    "11. Покажите суммарное количество медалей выйгранных странами в последних олимпийских играх. \n",
    "12. Постройте таблицу в которой по годам всех олимпиад покажите топовых атлетов США(1 атлет на год) по общему количеству медалей. Включите дисциплину атлета.\n"
   ]
  },
  {
   "cell_type": "code",
   "execution_count": 1,
   "metadata": {},
   "outputs": [],
   "source": [
    "import pandas as pd\n",
    "import matplotlib.pyplot as plt\n",
    "\n",
    "data_from_file = pd.read_csv('olimpic_medals.csv', delimiter=',')"
   ]
  },
  {
   "cell_type": "code",
   "execution_count": 2,
   "metadata": {},
   "outputs": [
    {
     "data": {
      "text/plain": [
       "4"
      ]
     },
     "execution_count": 2,
     "metadata": {},
     "output_type": "execute_result"
    }
   ],
   "source": [
    "# 1. Сколько медалей выиграл Jesse Owens в 1936? \n",
    "\n",
    "medals_jesse_owens = data_from_file[(data_from_file.Athlete == 'OWENS, Jesse')\n",
    "                                    & (data_from_file.Edition == 1936)].Medal.count()\n",
    "\n",
    "medals_jesse_owens\n",
    "\n",
    "# ОТВЕТ: 4"
   ]
  },
  {
   "cell_type": "code",
   "execution_count": 3,
   "metadata": {},
   "outputs": [
    {
     "data": {
      "text/plain": [
       "NOC\n",
       "INA    8\n",
       "Name: Medal, dtype: int64"
      ]
     },
     "execution_count": 3,
     "metadata": {},
     "output_type": "execute_result"
    }
   ],
   "source": [
    "# 2. Какая страна выйграла большинство золотых медалей мужчинами в бадминтоне?\n",
    "\n",
    "gold_medals_badminton_men = data_from_file[(data_from_file.Discipline == 'Badminton')\n",
    "                                           & (data_from_file.Event_gender == 'M')\n",
    "                                           & (data_from_file.Medal == 'Gold')]\n",
    "\n",
    "gold_medals_badminton_men = gold_medals_badminton_men.groupby(['NOC'])['Medal'].count()\n",
    "max_medals = gold_medals_badminton_men.max()\n",
    "res = gold_medals_badminton_men[gold_medals_badminton_men == max_medals]\n",
    "res\n",
    "\n",
    "# ОТВЕТ: страна INA (8 медалей)"
   ]
  },
  {
   "cell_type": "code",
   "execution_count": 4,
   "metadata": {},
   "outputs": [
    {
     "data": {
      "text/plain": [
       "NOC\n",
       "USA    1837\n",
       "AUS     762\n",
       "GER     691\n",
       "Name: Medal, dtype: int64"
      ]
     },
     "execution_count": 4,
     "metadata": {},
     "output_type": "execute_result"
    }
   ],
   "source": [
    "# 3. Какие три страны выйграли большинство медалей в последние годы (с 1984 по 2008)? \n",
    "\n",
    "last_years = data_from_file[(data_from_file.Edition >= 1984)\n",
    "                                           & (data_from_file.Edition <= 2008)]\n",
    "medals = last_years.groupby(['NOC'])['Medal'].count()\n",
    "medals.sort_values(ascending=False).head(3)\n",
    "\n",
    "# ОТВЕТ:\n",
    "# USA    1837\n",
    "# AUS     762\n",
    "# GER     691"
   ]
  },
  {
   "cell_type": "code",
   "execution_count": 5,
   "metadata": {},
   "outputs": [
    {
     "data": {
      "text/html": [
       "<div>\n",
       "<style scoped>\n",
       "    .dataframe tbody tr th:only-of-type {\n",
       "        vertical-align: middle;\n",
       "    }\n",
       "\n",
       "    .dataframe tbody tr th {\n",
       "        vertical-align: top;\n",
       "    }\n",
       "\n",
       "    .dataframe thead th {\n",
       "        text-align: right;\n",
       "    }\n",
       "</style>\n",
       "<table border=\"1\" class=\"dataframe\">\n",
       "  <thead>\n",
       "    <tr style=\"text-align: right;\">\n",
       "      <th></th>\n",
       "      <th>City</th>\n",
       "      <th>Edition</th>\n",
       "      <th>Athlete</th>\n",
       "      <th>NOC</th>\n",
       "    </tr>\n",
       "  </thead>\n",
       "  <tbody>\n",
       "    <tr>\n",
       "      <th>27606</th>\n",
       "      <td>Beijing</td>\n",
       "      <td>2008</td>\n",
       "      <td>POWELL, Asafa</td>\n",
       "      <td>JAM</td>\n",
       "    </tr>\n",
       "    <tr>\n",
       "      <th>27321</th>\n",
       "      <td>Beijing</td>\n",
       "      <td>2008</td>\n",
       "      <td>CROCKER, Ian</td>\n",
       "      <td>USA</td>\n",
       "    </tr>\n",
       "    <tr>\n",
       "      <th>27212</th>\n",
       "      <td>Beijing</td>\n",
       "      <td>2008</td>\n",
       "      <td>PEIRSOL, Aaron</td>\n",
       "      <td>USA</td>\n",
       "    </tr>\n",
       "    <tr>\n",
       "      <th>27218</th>\n",
       "      <td>Beijing</td>\n",
       "      <td>2008</td>\n",
       "      <td>KITAJIMA, Kosuke</td>\n",
       "      <td>JPN</td>\n",
       "    </tr>\n",
       "    <tr>\n",
       "      <th>27224</th>\n",
       "      <td>Beijing</td>\n",
       "      <td>2008</td>\n",
       "      <td>PHELPS, Michael</td>\n",
       "      <td>USA</td>\n",
       "    </tr>\n",
       "    <tr>\n",
       "      <th>...</th>\n",
       "      <td>...</td>\n",
       "      <td>...</td>\n",
       "      <td>...</td>\n",
       "      <td>...</td>\n",
       "    </tr>\n",
       "    <tr>\n",
       "      <th>671</th>\n",
       "      <td>St Louis</td>\n",
       "      <td>1904</td>\n",
       "      <td>BRACK, Walter</td>\n",
       "      <td>GER</td>\n",
       "    </tr>\n",
       "    <tr>\n",
       "      <th>231</th>\n",
       "      <td>Paris</td>\n",
       "      <td>1900</td>\n",
       "      <td>JARVIS, Francis</td>\n",
       "      <td>USA</td>\n",
       "    </tr>\n",
       "    <tr>\n",
       "      <th>13</th>\n",
       "      <td>Athens</td>\n",
       "      <td>1896</td>\n",
       "      <td>BURKE, Thomas</td>\n",
       "      <td>USA</td>\n",
       "    </tr>\n",
       "    <tr>\n",
       "      <th>3</th>\n",
       "      <td>Athens</td>\n",
       "      <td>1896</td>\n",
       "      <td>MALOKINIS, Ioannis</td>\n",
       "      <td>GRE</td>\n",
       "    </tr>\n",
       "    <tr>\n",
       "      <th>0</th>\n",
       "      <td>Athens</td>\n",
       "      <td>1896</td>\n",
       "      <td>HAJOS, Alfred</td>\n",
       "      <td>HUN</td>\n",
       "    </tr>\n",
       "  </tbody>\n",
       "</table>\n",
       "<p>349 rows × 4 columns</p>\n",
       "</div>"
      ],
      "text/plain": [
       "           City  Edition             Athlete  NOC\n",
       "27606   Beijing     2008       POWELL, Asafa  JAM\n",
       "27321   Beijing     2008        CROCKER, Ian  USA\n",
       "27212   Beijing     2008      PEIRSOL, Aaron  USA\n",
       "27218   Beijing     2008    KITAJIMA, Kosuke  JPN\n",
       "27224   Beijing     2008     PHELPS, Michael  USA\n",
       "...         ...      ...                 ...  ...\n",
       "671    St Louis     1904       BRACK, Walter  GER\n",
       "231       Paris     1900     JARVIS, Francis  USA\n",
       "13       Athens     1896       BURKE, Thomas  USA\n",
       "3        Athens     1896  MALOKINIS, Ioannis  GRE\n",
       "0        Athens     1896       HAJOS, Alfred  HUN\n",
       "\n",
       "[349 rows x 4 columns]"
      ]
     },
     "execution_count": 5,
     "metadata": {},
     "output_type": "execute_result"
    }
   ],
   "source": [
    "# 4. Покажите мужчин золотых медалистов по 100m. Выведите результаты по убыванию года выйгрыша.\n",
    "#    Покажите город в котором проходила олимпиала, год, имя атлета и страну за которую он выступал. \n",
    "\n",
    "event_100m = data_from_file[data_from_file.Event.str.contains(\"100m\")]\n",
    "event_gender_medal=event_100m.loc[(event_100m.Gender=='Men') & (event_100m.Medal=='Gold')]\n",
    "event_gender_medal.sort_values('Edition', ascending=False)[['City','Edition','Athlete','NOC']]\n"
   ]
  },
  {
   "cell_type": "code",
   "execution_count": 6,
   "metadata": {},
   "outputs": [
    {
     "data": {
      "text/plain": [
       "29216"
      ]
     },
     "execution_count": 6,
     "metadata": {},
     "output_type": "execute_result"
    }
   ],
   "source": [
    "# 5. Как много медалей было выйграно мужчинами и женщинами в истории олимпиады.\n",
    "#    Как много золотых, серебрянных и бронзовых медалей было выйграно каждым полом? \n",
    "\n",
    "all_medals_men_women = data_from_file['Medal'].count()\n",
    "all_medals_men_women\n",
    "\n",
    "# ОТВЕТ: 29216 - всего медалей за всю историю олимпиады"
   ]
  },
  {
   "cell_type": "code",
   "execution_count": 7,
   "metadata": {},
   "outputs": [
    {
     "data": {
      "text/html": [
       "<div>\n",
       "<style scoped>\n",
       "    .dataframe tbody tr th:only-of-type {\n",
       "        vertical-align: middle;\n",
       "    }\n",
       "\n",
       "    .dataframe tbody tr th {\n",
       "        vertical-align: top;\n",
       "    }\n",
       "\n",
       "    .dataframe thead tr th {\n",
       "        text-align: left;\n",
       "    }\n",
       "\n",
       "    .dataframe thead tr:last-of-type th {\n",
       "        text-align: right;\n",
       "    }\n",
       "</style>\n",
       "<table border=\"1\" class=\"dataframe\">\n",
       "  <thead>\n",
       "    <tr>\n",
       "      <th></th>\n",
       "      <th>Medal</th>\n",
       "    </tr>\n",
       "    <tr>\n",
       "      <th></th>\n",
       "      <th>count</th>\n",
       "    </tr>\n",
       "    <tr>\n",
       "      <th>Gender</th>\n",
       "      <th></th>\n",
       "    </tr>\n",
       "  </thead>\n",
       "  <tbody>\n",
       "    <tr>\n",
       "      <th>Men</th>\n",
       "      <td>21721</td>\n",
       "    </tr>\n",
       "    <tr>\n",
       "      <th>Women</th>\n",
       "      <td>7495</td>\n",
       "    </tr>\n",
       "  </tbody>\n",
       "</table>\n",
       "</div>"
      ],
      "text/plain": [
       "        Medal\n",
       "        count\n",
       "Gender       \n",
       "Men     21721\n",
       "Women    7495"
      ]
     },
     "execution_count": 7,
     "metadata": {},
     "output_type": "execute_result"
    }
   ],
   "source": [
    "# Выиграно медалей, разделение по мужчинам и женщинам:\n",
    "\n",
    "data_from_file[['Gender','Medal']].groupby('Gender').agg(['count'])\n",
    "\n",
    "# ОТВЕТ: \n",
    "# мужчинами - 21721 медалей\n",
    "# женщинами - 7495 медалей"
   ]
  },
  {
   "cell_type": "code",
   "execution_count": 8,
   "metadata": {},
   "outputs": [
    {
     "data": {
      "text/html": [
       "<div>\n",
       "<style scoped>\n",
       "    .dataframe tbody tr th:only-of-type {\n",
       "        vertical-align: middle;\n",
       "    }\n",
       "\n",
       "    .dataframe tbody tr th {\n",
       "        vertical-align: top;\n",
       "    }\n",
       "\n",
       "    .dataframe thead th {\n",
       "        text-align: right;\n",
       "    }\n",
       "</style>\n",
       "<table border=\"1\" class=\"dataframe\">\n",
       "  <thead>\n",
       "    <tr style=\"text-align: right;\">\n",
       "      <th></th>\n",
       "      <th></th>\n",
       "      <th>Medal</th>\n",
       "    </tr>\n",
       "    <tr>\n",
       "      <th>Gender</th>\n",
       "      <th>Medal</th>\n",
       "      <th></th>\n",
       "    </tr>\n",
       "  </thead>\n",
       "  <tbody>\n",
       "    <tr>\n",
       "      <th rowspan=\"3\" valign=\"top\">Men</th>\n",
       "      <th>Bronze</th>\n",
       "      <td>7175</td>\n",
       "    </tr>\n",
       "    <tr>\n",
       "      <th>Gold</th>\n",
       "      <td>7365</td>\n",
       "    </tr>\n",
       "    <tr>\n",
       "      <th>Silver</th>\n",
       "      <td>7181</td>\n",
       "    </tr>\n",
       "    <tr>\n",
       "      <th rowspan=\"3\" valign=\"top\">Women</th>\n",
       "      <th>Bronze</th>\n",
       "      <td>2514</td>\n",
       "    </tr>\n",
       "    <tr>\n",
       "      <th>Gold</th>\n",
       "      <td>2485</td>\n",
       "    </tr>\n",
       "    <tr>\n",
       "      <th>Silver</th>\n",
       "      <td>2496</td>\n",
       "    </tr>\n",
       "  </tbody>\n",
       "</table>\n",
       "</div>"
      ],
      "text/plain": [
       "               Medal\n",
       "Gender Medal        \n",
       "Men    Bronze   7175\n",
       "       Gold     7365\n",
       "       Silver   7181\n",
       "Women  Bronze   2514\n",
       "       Gold     2485\n",
       "       Silver   2496"
      ]
     },
     "execution_count": 8,
     "metadata": {},
     "output_type": "execute_result"
    }
   ],
   "source": [
    "#    Как много золотых, серебрянных и бронзовых медалей было выйграно каждым полом? \n",
    "\n",
    "data_from_file[['Gender','Medal']].groupby(['Gender','Medal']).agg({'Medal':'count'})"
   ]
  },
  {
   "cell_type": "code",
   "execution_count": 9,
   "metadata": {},
   "outputs": [
    {
     "data": {
      "image/png": "[encoded data removed]",
      "text/plain": [
       "<Figure size 432x288 with 1 Axes>"
      ]
     },
     "metadata": {
      "needs_background": "light"
     },
     "output_type": "display_data"
    }
   ],
   "source": [
    "# 6. Используя groupby(), постройте график числа всех медалей выйгранных на каждой олимпиаде.\n",
    "\n",
    "graph_all_medals = data_from_file.groupby(['Edition'])['Medal'].count().plot()\n"
   ]
  },
  {
   "cell_type": "code",
   "execution_count": 10,
   "metadata": {},
   "outputs": [
    {
     "data": {
      "text/html": [
       "<div>\n",
       "<style scoped>\n",
       "    .dataframe tbody tr th:only-of-type {\n",
       "        vertical-align: middle;\n",
       "    }\n",
       "\n",
       "    .dataframe tbody tr th {\n",
       "        vertical-align: top;\n",
       "    }\n",
       "\n",
       "    .dataframe thead tr th {\n",
       "        text-align: left;\n",
       "    }\n",
       "\n",
       "    .dataframe thead tr:last-of-type th {\n",
       "        text-align: right;\n",
       "    }\n",
       "</style>\n",
       "<table border=\"1\" class=\"dataframe\">\n",
       "  <thead>\n",
       "    <tr>\n",
       "      <th></th>\n",
       "      <th>Medal</th>\n",
       "      <th colspan=\"2\" halign=\"left\">Edition</th>\n",
       "    </tr>\n",
       "    <tr>\n",
       "      <th></th>\n",
       "      <th>count</th>\n",
       "      <th>min</th>\n",
       "      <th>max</th>\n",
       "    </tr>\n",
       "    <tr>\n",
       "      <th>NOC</th>\n",
       "      <th></th>\n",
       "      <th></th>\n",
       "      <th></th>\n",
       "    </tr>\n",
       "  </thead>\n",
       "  <tbody>\n",
       "    <tr>\n",
       "      <th>AFG</th>\n",
       "      <td>1</td>\n",
       "      <td>2008</td>\n",
       "      <td>2008</td>\n",
       "    </tr>\n",
       "    <tr>\n",
       "      <th>AHO</th>\n",
       "      <td>1</td>\n",
       "      <td>1988</td>\n",
       "      <td>1988</td>\n",
       "    </tr>\n",
       "    <tr>\n",
       "      <th>ALG</th>\n",
       "      <td>14</td>\n",
       "      <td>1984</td>\n",
       "      <td>2008</td>\n",
       "    </tr>\n",
       "    <tr>\n",
       "      <th>ANZ</th>\n",
       "      <td>29</td>\n",
       "      <td>1908</td>\n",
       "      <td>1912</td>\n",
       "    </tr>\n",
       "    <tr>\n",
       "      <th>ARG</th>\n",
       "      <td>239</td>\n",
       "      <td>1924</td>\n",
       "      <td>2008</td>\n",
       "    </tr>\n",
       "    <tr>\n",
       "      <th>...</th>\n",
       "      <td>...</td>\n",
       "      <td>...</td>\n",
       "      <td>...</td>\n",
       "    </tr>\n",
       "    <tr>\n",
       "      <th>VIE</th>\n",
       "      <td>2</td>\n",
       "      <td>2000</td>\n",
       "      <td>2008</td>\n",
       "    </tr>\n",
       "    <tr>\n",
       "      <th>YUG</th>\n",
       "      <td>435</td>\n",
       "      <td>1924</td>\n",
       "      <td>2000</td>\n",
       "    </tr>\n",
       "    <tr>\n",
       "      <th>ZAM</th>\n",
       "      <td>2</td>\n",
       "      <td>1984</td>\n",
       "      <td>1996</td>\n",
       "    </tr>\n",
       "    <tr>\n",
       "      <th>ZIM</th>\n",
       "      <td>23</td>\n",
       "      <td>1980</td>\n",
       "      <td>2008</td>\n",
       "    </tr>\n",
       "    <tr>\n",
       "      <th>ZZX</th>\n",
       "      <td>48</td>\n",
       "      <td>1896</td>\n",
       "      <td>1904</td>\n",
       "    </tr>\n",
       "  </tbody>\n",
       "</table>\n",
       "<p>138 rows × 3 columns</p>\n",
       "</div>"
      ],
      "text/plain": [
       "    Medal Edition      \n",
       "    count     min   max\n",
       "NOC                    \n",
       "AFG     1    2008  2008\n",
       "AHO     1    1988  1988\n",
       "ALG    14    1984  2008\n",
       "ANZ    29    1908  1912\n",
       "ARG   239    1924  2008\n",
       "..    ...     ...   ...\n",
       "VIE     2    2000  2008\n",
       "YUG   435    1924  2000\n",
       "ZAM     2    1984  1996\n",
       "ZIM    23    1980  2008\n",
       "ZZX    48    1896  1904\n",
       "\n",
       "[138 rows x 3 columns]"
      ]
     },
     "execution_count": 10,
     "metadata": {},
     "output_type": "execute_result"
    }
   ],
   "source": [
    "# 7. Создайте список показывающий число всех медалей выйгранных\n",
    "#    каждой страной в течение всей истории олимпийских игр. \n",
    "#    Для каждой страны, необходимо показать год первой и последней заработанной медали.\n",
    "\n",
    "all_countries_medals = data_from_file.groupby('NOC').agg({'Medal':'count','Edition':['min','max']})\n",
    "all_countries_medals\n"
   ]
  },
  {
   "cell_type": "code",
   "execution_count": 11,
   "metadata": {},
   "outputs": [
    {
     "data": {
      "text/plain": [
       "27210       STOECKEL, Hayden\n",
       "27211     VYATCHANIN, Arkady\n",
       "27212         PEIRSOL, Aaron\n",
       "27213          GREVERS, Matt\n",
       "27214      HOELZER, Margaret\n",
       "                ...         \n",
       "27618    POLYAKOVA, Evgeniya\n",
       "27619         BORLEE, Olivia\n",
       "27620           GEVAERT, Kim\n",
       "27621          MARIEN, Hanna\n",
       "27622      OUEDRAOGO, Elodie\n",
       "Name: Athlete, Length: 145, dtype: object"
      ]
     },
     "execution_count": 11,
     "metadata": {},
     "output_type": "execute_result"
    }
   ],
   "source": [
    "# 8. Атлеты выйгравшие медали в Beijing на дистанции 100m или 200m\n",
    "\n",
    "athletes_100m_200m = data_from_file.loc[data_from_file.City=='Beijing']\n",
    "athletes_100m_200m = athletes_100m_200m[athletes_100m_200m.Event.str.contains('100m|200m')]\n",
    "\n",
    "athletes_100m_200m['Athlete'].drop_duplicates()\n",
    "# ИЛИ (другой вариант удалить повторяющиеся имена)\n",
    "# set(athletes_100m_200m['Athlete'].tolist())\n"
   ]
  },
  {
   "cell_type": "code",
   "execution_count": 12,
   "metadata": {},
   "outputs": [
    {
     "data": {
      "image/png": "[encoded data removed]",
      "text/plain": [
       "<Figure size 432x288 with 1 Axes>"
      ]
     },
     "metadata": {
      "needs_background": "light"
     },
     "output_type": "display_data"
    }
   ],
   "source": [
    "# 9. Постройте график числа золотых медалей выйгранных США мужчинами и женщинами в атлетике. \n",
    "\n",
    "# ВАРИАНТ график по годам:\n",
    "gold_medals_USA = data_from_file[(data_from_file.Medal == 'Gold') &\n",
    "                                 (data_from_file.NOC == 'USA') & \n",
    "                                 (data_from_file.Discipline == 'Athletics')].groupby(['Edition'])['Medal'].count().plot()\n"
   ]
  },
  {
   "cell_type": "code",
   "execution_count": 13,
   "metadata": {},
   "outputs": [
    {
     "data": {
      "text/plain": [
       "<matplotlib.axes._subplots.AxesSubplot at 0x944ff70>"
      ]
     },
     "execution_count": 13,
     "metadata": {},
     "output_type": "execute_result"
    },
    {
     "data": {
      "image/png": "[encoded data removed]",
      "text/plain": [
       "<Figure size 432x288 with 1 Axes>"
      ]
     },
     "metadata": {},
     "output_type": "display_data"
    }
   ],
   "source": [
    "# ВАРИАНТ график общее распределение между мужчинами и женщинами:\n",
    "\n",
    "data_from_file.loc[(data_from_file.NOC=='USA') &\n",
    "                   (data_from_file.Sport=='Athletics')]['Gender'].value_counts().plot.pie()"
   ]
  },
  {
   "cell_type": "code",
   "execution_count": 14,
   "metadata": {},
   "outputs": [
    {
     "data": {
      "text/plain": [
       "<matplotlib.axes._subplots.AxesSubplot at 0xa8a7310>"
      ]
     },
     "execution_count": 14,
     "metadata": {},
     "output_type": "execute_result"
    },
    {
     "data": {
      "image/png": "[encoded data removed]",
      "text/plain": [
       "<Figure size 432x288 with 1 Axes>"
      ]
     },
     "metadata": {},
     "output_type": "display_data"
    }
   ],
   "source": [
    "# 10. Постройте график 5 атлетов которые выйграли большинство золотых медалей. \n",
    "\n",
    "all_gold_medals = data_from_file[(data_from_file.Medal == 'Gold')]\n",
    "five_athletes = all_gold_medals.groupby(['Athlete'])['Medal'].count()\n",
    "five_athletes.sort_values(ascending=False).head(5).plot.pie()\n"
   ]
  },
  {
   "cell_type": "code",
   "execution_count": 15,
   "metadata": {},
   "outputs": [
    {
     "data": {
      "text/plain": [
       "NOC\n",
       "AFG      1\n",
       "ALG      2\n",
       "ARG     51\n",
       "ARM      6\n",
       "AUS    149\n",
       "      ... \n",
       "USA    315\n",
       "UZB      6\n",
       "VEN      1\n",
       "VIE      1\n",
       "ZIM      4\n",
       "Name: Medal, Length: 86, dtype: int64"
      ]
     },
     "execution_count": 15,
     "metadata": {},
     "output_type": "execute_result"
    }
   ],
   "source": [
    "# 11. Покажите суммарное количество медалей выйгранных странами в последних олимпийских играх. \n",
    "\n",
    "medals_last_game = data_from_file[data_from_file.Edition == data_from_file.Edition.max()].groupby(['NOC'])['Medal'].count()\n",
    "medals_last_game\n"
   ]
  },
  {
   "cell_type": "code",
   "execution_count": 16,
   "metadata": {},
   "outputs": [
    {
     "data": {
      "text/plain": [
       "Edition  Athlete                      Sport     \n",
       "1896     GARRETT, Robert              Athletics     4\n",
       "1900     BAXTER, Irving               Athletics     5\n",
       "1904     EYSER, George                Gymnastics    6\n",
       "1908     SHEPPARD, Melvin             Athletics     3\n",
       "1912     OSBURN, Carl Townsend        Shooting      4\n",
       "1920     LEE, Willis                  Shooting      7\n",
       "1924     WEISSMULLER, Johnny          Aquatics      4\n",
       "1928     LAUFER, Walter               Aquatics      2\n",
       "1932     DIDRIKSON, Mildred           Athletics     3\n",
       "1936     OWENS, Jesse                 Athletics     4\n",
       "1948     CURTIS, Ann Elisabeth        Aquatics      3\n",
       "1952     KONNO, Ford Hiroshi          Aquatics      3\n",
       "1956     BREEN, George Thomas         Aquatics      3\n",
       "1960     VON SALTZA, Susan Christina  Aquatics      4\n",
       "1964     ELLIS, Kathleen              Aquatics      4\n",
       "1968     HICKCOX, Charles Buchanan    Aquatics      4\n",
       "1972     SPITZ, Mark                  Aquatics      7\n",
       "1976     NABER, John Phillips         Aquatics      5\n",
       "1984     RETTON, Mary-Lou             Gymnastics    5\n",
       "1988     BIONDI, Matthew              Aquatics      7\n",
       "1992     MILLER, Shannon              Gymnastics    5\n",
       "1996     VAN DYKEN, Amy               Aquatics      4\n",
       "2000     TORRES, Dara                 Aquatics      5\n",
       "2004     PHELPS, Michael              Aquatics      8\n",
       "2008     PHELPS, Michael              Aquatics      8\n",
       "Name: Athlete, dtype: int64"
      ]
     },
     "execution_count": 16,
     "metadata": {},
     "output_type": "execute_result"
    }
   ],
   "source": [
    "# 12. Постройте таблицу в которой по годам всех олимпиад покажите топовых атлетов\n",
    "#     США(1 атлет на год) по общему количеству медалей. Включите дисциплину атлета.\n",
    "\n",
    "top_athletes_USA = data_from_file.loc[data_from_file.NOC == 'USA'].groupby(['Edition','Athlete','Sport'])['Athlete'].count()\n",
    "top_athletes_USA = top_athletes_USA.sort_values(ascending=False).groupby(level=0).head(1)\n",
    "top_athletes_USA.sort_index()\n"
   ]
  },
  {
   "cell_type": "code",
   "execution_count": null,
   "metadata": {},
   "outputs": [],
   "source": []
  }
 ],
 "metadata": {
  "kernelspec": {
   "display_name": "Python 3",
   "language": "python",
   "name": "python3"
  },
  "language_info": {
   "codemirror_mode": {
    "name": "ipython",
    "version": 3
   },
   "file_extension": ".py",
   "mimetype": "text/x-python",
   "name": "python",
   "nbconvert_exporter": "python",
   "pygments_lexer": "ipython3",
   "version": "3.7.4"
  }
 },
 "nbformat": 4,
 "nbformat_minor": 4
}
