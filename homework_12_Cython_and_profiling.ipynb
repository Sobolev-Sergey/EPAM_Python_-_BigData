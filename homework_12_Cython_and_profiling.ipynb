{
 "cells": [
  {
   "cell_type": "markdown",
   "metadata": {},
   "source": [
    "# Домашнее задание \n",
    "\n",
    "Для следующих простых задач нужно привести 2-3 способа решения на python, сравнить между собой эти способы по затрачиваемым времени и памяти и объяснить с чем это может быть связано. \n",
    "\n",
    "1. Чтение/запись в словарь. При попытке чтения несуществующего ключа возвращается None. \n",
    "2. К каждому элементу списка применить какуе-либо преобразование (например, для числового списка - возвести в кавдрат, для строкового - привести к верхнему регистру, отфильтровать определенные символы, и т.д.). \n",
    "3. Отсортировать список. \n",
    "4. Распаковать вложенный список. "
   ]
  },
  {
   "cell_type": "markdown",
   "metadata": {},
   "source": [
    "## 1. Чтение/запись в словарь. При попытке чтения несуществующего ключа возвращается None. "
   ]
  },
  {
   "cell_type": "code",
   "execution_count": 1,
   "metadata": {},
   "outputs": [],
   "source": [
    "# Для начала создадим список ключей для нашего словаря, размером 1000 элементов.\n",
    "# Он будет состоять из случайных чисел от 0 до 100.\n",
    "\n",
    "import random\n",
    "list_key = [random.randint(0, 100) for i in range(1000)]\n",
    "\n",
    "# Далее создадим список значений для нашего словаря, размером 1000 элементов.\n",
    "# Он будет состоять из случайных чисел от 200 до 300.\n",
    "\n",
    "list_value = [random.randint(200, 300) for i in range(1000)]\n",
    "list_value_copy = list_value.copy()\n",
    "\n",
    "# Создадим словарь. Словарь из списков можно создать разными способами.\n",
    "# Давайте попробуем несколько из них и сравним время создания."
   ]
  },
  {
   "cell_type": "code",
   "execution_count": 2,
   "metadata": {},
   "outputs": [
    {
     "name": "stdout",
     "output_type": "stream",
     "text": [
      "474 µs ± 10.6 µs per loop (mean ± std. dev. of 7 runs, 1000 loops each)\n"
     ]
    }
   ],
   "source": [
    "# Создание словаря через конвертирование списков в словарь\n",
    "%timeit {list_key[i]: list_value[i] for i in range(len(list_key))}"
   ]
  },
  {
   "cell_type": "code",
   "execution_count": 3,
   "metadata": {},
   "outputs": [
    {
     "name": "stdout",
     "output_type": "stream",
     "text": [
      "204 µs ± 11.2 µs per loop (mean ± std. dev. of 7 runs, 1000 loops each)\n"
     ]
    }
   ],
   "source": [
    "# Создание словаря используя перебор элементов в списках:\n",
    "\n",
    "def create_dict(list_key, list_value):\n",
    "    res = {}\n",
    "\n",
    "    for key in list_key:\n",
    "\n",
    "        for value in list_value:\n",
    "\n",
    "            res[key] = value\n",
    "\n",
    "            list_value.remove(value)\n",
    "\n",
    "            break  \n",
    "\n",
    "%timeit create_dict(list_key, list_value_copy)"
   ]
  },
  {
   "cell_type": "code",
   "execution_count": 4,
   "metadata": {},
   "outputs": [
    {
     "name": "stdout",
     "output_type": "stream",
     "text": [
      "155 µs ± 8.5 µs per loop (mean ± std. dev. of 7 runs, 10000 loops each)\n"
     ]
    }
   ],
   "source": [
    "# Создание словаря используя zip():\n",
    "\n",
    "%timeit dict(zip(list_key, list_value))"
   ]
  },
  {
   "cell_type": "markdown",
   "metadata": {},
   "source": [
    "Результаты показывают, что реализованный на С метод zip() в Python, работает быстрее чем наши алгоритмы."
   ]
  },
  {
   "cell_type": "markdown",
   "metadata": {},
   "source": [
    "#### Далее сравним разные методы чтения из словаря.\n",
    "Пройдемся по словарю по ключам, разными методами, и создадим новый словарь на основе полученных значений.\n",
    "Так же добавим проверку при которой, при попытке чтения несуществующего ключа возвращается None."
   ]
  },
  {
   "cell_type": "code",
   "execution_count": 5,
   "metadata": {},
   "outputs": [
    {
     "name": "stdout",
     "output_type": "stream",
     "text": [
      "328 µs ± 56.5 µs per loop (mean ± std. dev. of 7 runs, 1000 loops each)\n"
     ]
    }
   ],
   "source": [
    "# Чтение из словаря, используя цикл for по словарю\n",
    "new_dict = dict(zip(list_key, list_value))\n",
    "\n",
    "def get_by_dict(my_dict, list_key, default=None):\n",
    "    res = {}\n",
    "    \n",
    "    try:\n",
    "        for key in list_key:\n",
    "            value = my_dict[key]\n",
    "            res[key] = value\n",
    "        \n",
    "    except KeyError:\n",
    "        return default\n",
    "        \n",
    "    return res\n",
    "    \n",
    "%timeit get_by_dict(new_dict, list_key)"
   ]
  },
  {
   "cell_type": "code",
   "execution_count": 6,
   "metadata": {},
   "outputs": [
    {
     "name": "stdout",
     "output_type": "stream",
     "text": [
      "35.9 µs ± 6.42 µs per loop (mean ± std. dev. of 7 runs, 10000 loops each)\n"
     ]
    }
   ],
   "source": [
    "# Чтение из словаря, используя метод items()\n",
    "\n",
    "def get_by_dict2(my_dict, list_key, default=None):\n",
    "    res = {}\n",
    "    \n",
    "    try:\n",
    "        for key,value in my_dict.items():\n",
    "            res[key] = value\n",
    "        \n",
    "    except KeyError:\n",
    "        return default\n",
    "\n",
    "    return res\n",
    "    \n",
    "%timeit get_by_dict2(new_dict, list_key)"
   ]
  },
  {
   "cell_type": "markdown",
   "metadata": {},
   "source": [
    "И снова убеждаемся, что встроенные методы в Python, написанные на С, работают намного быстрее."
   ]
  },
  {
   "cell_type": "markdown",
   "metadata": {},
   "source": [
    "## 2. К каждому элементу списка применить какое-либо преобразование \n",
    "## (например, для числового списка - возвести в квадрат, для строкового\n",
    "## - привести к верхнему регистру, отфильтровать определенные символы, и т.д.). "
   ]
  },
  {
   "cell_type": "code",
   "execution_count": 7,
   "metadata": {},
   "outputs": [],
   "source": [
    "# Создадим список случайных чисел от 0 до 100, размером 1000:\n",
    "\n",
    "long_list = [random.randint(0, 100) for i in range(1000)]"
   ]
  },
  {
   "cell_type": "code",
   "execution_count": 8,
   "metadata": {},
   "outputs": [
    {
     "name": "stdout",
     "output_type": "stream",
     "text": [
      "761 µs ± 55.6 µs per loop (mean ± std. dev. of 7 runs, 1000 loops each)\n"
     ]
    }
   ],
   "source": [
    "# Создадим функцию, которая будет проходить по всему списку,\n",
    "# и каждый его элемент будет возводить в квадрат используя оператор **\n",
    "\n",
    "def item_squared(my_list):\n",
    "    for i in my_list:\n",
    "        i**2\n",
    "\n",
    "%timeit item_squared(long_list)"
   ]
  },
  {
   "cell_type": "code",
   "execution_count": 9,
   "metadata": {},
   "outputs": [
    {
     "name": "stdout",
     "output_type": "stream",
     "text": [
      "187 µs ± 6.41 µs per loop (mean ± std. dev. of 7 runs, 1000 loops each)\n"
     ]
    }
   ],
   "source": [
    "# Создадим функцию, которая будет проходить по всему списку,\n",
    "# и каждый его элемент будет возводить в квадрат, умножая его на самого себя\n",
    "\n",
    "def item_squared2(my_list):\n",
    "    for i in my_list:\n",
    "        i*i\n",
    "\n",
    "%timeit item_squared2(long_list)"
   ]
  },
  {
   "cell_type": "code",
   "execution_count": 10,
   "metadata": {},
   "outputs": [
    {
     "name": "stdout",
     "output_type": "stream",
     "text": [
      "738 µs ± 44.1 µs per loop (mean ± std. dev. of 7 runs, 1000 loops each)\n"
     ]
    }
   ],
   "source": [
    "# Создадим функцию, которая будет проходить по всему списку,\n",
    "# и каждый его элемент будет возводить в квадрат, используя sqrt() из модуля math\n",
    "\n",
    "import math\n",
    "\n",
    "def item_squared3(my_list):\n",
    "    for i in my_list:\n",
    "        math.sqrt(i)\n",
    "\n",
    "%timeit item_squared3(long_list)"
   ]
  },
  {
   "cell_type": "markdown",
   "metadata": {},
   "source": [
    "В результате получаем, что наивное умножение \"i * i\" работает быстрее чем возведение в квадрат \"i * * 2\". Это связано с тем, что реализация возведения в степень имеет некоторые издержки, которых нет при умножении. Однако наивное умножение будет становиться все медленнее и медленнее с ростом степени возведения."
   ]
  },
  {
   "cell_type": "markdown",
   "metadata": {},
   "source": [
    "## 3. Отсортировать список."
   ]
  },
  {
   "cell_type": "code",
   "execution_count": 11,
   "metadata": {},
   "outputs": [],
   "source": [
    "# Создадим список случайных чисел от 0 до 100, размером 1000:\n",
    "\n",
    "long_list = [random.randint(0, 100) for i in range(1000)]\n",
    "\n",
    "# Сделаем копии этого списка, для \"чистоты\" эксеперимента:\n",
    "long_list_copy_1 = long_list.copy()\n",
    "long_list_copy_2 = long_list.copy()\n",
    "long_list_copy_3 = long_list.copy()\n",
    "long_list_copy_4 = long_list.copy()"
   ]
  },
  {
   "cell_type": "code",
   "execution_count": 12,
   "metadata": {},
   "outputs": [
    {
     "name": "stdout",
     "output_type": "stream",
     "text": [
      "203 ms ± 6.94 ms per loop (mean ± std. dev. of 7 runs, 1 loop each)\n"
     ]
    }
   ],
   "source": [
    "# Отсортируем список методом \"пузырька\":\n",
    "\n",
    "def bubble(array):\n",
    "    N = len(array)\n",
    "    for i in range(N - 1):\n",
    "        for j in range(N-i-1):\n",
    "            if array[j] > array[j+1]:\n",
    "                buff = array[j]\n",
    "                array[j] = array[j+1]\n",
    "                array[j+1] = buff\n",
    "\n",
    "# и посмотрим сколько уйдет времени на сортировку нашего списка\n",
    "# пузырьковым методом:\n",
    "\n",
    "%timeit bubble(long_list_copy_1)            "
   ]
  },
  {
   "cell_type": "markdown",
   "metadata": {},
   "source": [
    "Попробуем изменить алгоритм сортировки, и реализуем метод быстрая сортировка."
   ]
  },
  {
   "cell_type": "code",
   "execution_count": 13,
   "metadata": {},
   "outputs": [
    {
     "name": "stdout",
     "output_type": "stream",
     "text": [
      "4.26 ms ± 182 µs per loop (mean ± std. dev. of 7 runs, 100 loops each)\n"
     ]
    }
   ],
   "source": [
    "def quicksort(array):\n",
    "    if len(array) <= 1:\n",
    "        return array\n",
    "    else:\n",
    "        q = random.choice(array)\n",
    "        s_array = []\n",
    "        m_array = []\n",
    "        e_array = []\n",
    "        for n in array:\n",
    "            if n < q:\n",
    "                s_array.append(n)\n",
    "            elif n > q:\n",
    "                m_array.append(n)\n",
    "            else:\n",
    "                e_array.append(n)\n",
    "        return quicksort(s_array) + e_array + quicksort(m_array)\n",
    "\n",
    "%timeit quicksort(long_list_copy_2)"
   ]
  },
  {
   "cell_type": "markdown",
   "metadata": {},
   "source": [
    " Как показывает результат, быстрая сортировка для данного кейса оказалась намного раз быстрее.\n",
    " Сравним наши функции по производительности с дефолтными функциями sorted() и sort()"
   ]
  },
  {
   "cell_type": "code",
   "execution_count": 14,
   "metadata": {},
   "outputs": [
    {
     "name": "stdout",
     "output_type": "stream",
     "text": [
      "252 µs ± 30.8 µs per loop (mean ± std. dev. of 7 runs, 1000 loops each)\n"
     ]
    }
   ],
   "source": [
    "# Сортировка с использованием sorted()\n",
    "\n",
    "%timeit sorted(long_list_copy_3)"
   ]
  },
  {
   "cell_type": "code",
   "execution_count": 15,
   "metadata": {},
   "outputs": [
    {
     "name": "stdout",
     "output_type": "stream",
     "text": [
      "24.9 µs ± 968 ns per loop (mean ± std. dev. of 7 runs, 10000 loops each)\n"
     ]
    }
   ],
   "source": [
    "# Сортировка с использованием sort()\n",
    "\n",
    "%timeit long_list_copy_4.sort()"
   ]
  },
  {
   "cell_type": "markdown",
   "metadata": {},
   "source": [
    "Результаты показывают, что реализованные в Python на C встроенные функции гораздо быстрее наших реализованных алгоритмов, и не стоит изобретать \"неуклюжие велосипеды\", а брать надёжное стандартное решение.\n",
    "Самым быстрым оказался метод sort(). Это потому, что метод sort() изменяет список прямо на месте, в то время как sorted() создает новый отсортированный список, сохраняя исходный нетронутым. "
   ]
  },
  {
   "cell_type": "markdown",
   "metadata": {},
   "source": [
    "## 4. Распаковать вложенный список."
   ]
  },
  {
   "cell_type": "code",
   "execution_count": 16,
   "metadata": {},
   "outputs": [],
   "source": [
    "# Создадим список, состоящий из 100 списоков случайных чисел от 0 до 100, размером 1000.\n",
    "\n",
    "nested_lists = [[random.randint(0, 100) * 3 for i in range(10000)] for j in range (100)]"
   ]
  },
  {
   "cell_type": "code",
   "execution_count": 17,
   "metadata": {},
   "outputs": [
    {
     "name": "stdout",
     "output_type": "stream",
     "text": [
      "123 ms ± 1.51 ms per loop (mean ± std. dev. of 7 runs, 10 loops each)\n"
     ]
    }
   ],
   "source": [
    "# Распакуем вложенные списки, используя генератор списков\n",
    "\n",
    "%timeit [item for sublist in nested_lists for item in sublist]"
   ]
  },
  {
   "cell_type": "code",
   "execution_count": 18,
   "metadata": {},
   "outputs": [
    {
     "name": "stdout",
     "output_type": "stream",
     "text": [
      "297 ms ± 14.8 ms per loop (mean ± std. dev. of 7 runs, 1 loop each)\n"
     ]
    }
   ],
   "source": [
    "# Распакуем вложенные списки, используя цикл for\n",
    "\n",
    "def get_from_list(my_list):\n",
    "    new_list = []\n",
    "    for y in nested_lists:\n",
    "        for x in y:\n",
    "            new_list.append(x) \n",
    "    return new_list\n",
    "\n",
    "%timeit get_from_list(nested_lists)"
   ]
  },
  {
   "cell_type": "code",
   "execution_count": 19,
   "metadata": {},
   "outputs": [
    {
     "name": "stdout",
     "output_type": "stream",
     "text": [
      "127 ms ± 3.94 ms per loop (mean ± std. dev. of 7 runs, 10 loops each)\n"
     ]
    }
   ],
   "source": [
    "# Распакуем вложенные списки, используя цикл for\n",
    "\n",
    "new_list = lambda nested_lists: [item for sublist in nested_lists for item in sublist]\n",
    "%timeit new_list(nested_lists)"
   ]
  },
  {
   "cell_type": "code",
   "execution_count": 20,
   "metadata": {},
   "outputs": [
    {
     "name": "stdout",
     "output_type": "stream",
     "text": [
      "267 ms ± 5.82 ms per loop (mean ± std. dev. of 7 runs, 1 loop each)\n"
     ]
    }
   ],
   "source": [
    "# Распакуем вложенные списки, используя библиотеку numpy\n",
    "\n",
    "import numpy as np\n",
    "%timeit np.concatenate(nested_lists)"
   ]
  },
  {
   "cell_type": "markdown",
   "metadata": {},
   "source": [
    "На наших данных, самое максимально быстродействие показало использование генератора списков. Достигаеся это за счет того, что они намного эффективнее используют память."
   ]
  }
 ],
 "metadata": {
  "kernelspec": {
   "display_name": "Python 3",
   "language": "python",
   "name": "python3"
  },
  "language_info": {
   "codemirror_mode": {
    "name": "ipython",
    "version": 3
   },
   "file_extension": ".py",
   "mimetype": "text/x-python",
   "name": "python",
   "nbconvert_exporter": "python",
   "pygments_lexer": "ipython3",
   "version": "3.7.4"
  }
 },
 "nbformat": 4,
 "nbformat_minor": 4
}
